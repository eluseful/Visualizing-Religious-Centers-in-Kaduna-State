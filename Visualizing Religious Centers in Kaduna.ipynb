{
 "cells": [
  {
   "cell_type": "code",
   "execution_count": 1,
   "id": "c836b112",
   "metadata": {},
   "outputs": [],
   "source": [
    "# load libraries and datasets\n",
    "import pandas as pd\n",
    "\n",
    "df_mosque = pd.read_csv('Nigeria_Mosques.csv', header=0)\n",
    "df_church = pd.read_csv('Nigeria_Churches.csv', header=0)"
   ]
  },
  {
   "cell_type": "code",
   "execution_count": 18,
   "id": "3d660208",
   "metadata": {},
   "outputs": [
    {
     "data": {
      "text/plain": [
       "(22379, 17)"
      ]
     },
     "execution_count": 18,
     "metadata": {},
     "output_type": "execute_result"
    }
   ],
   "source": [
    "df_mosque.shape"
   ]
  },
  {
   "cell_type": "code",
   "execution_count": 19,
   "id": "aedfc140",
   "metadata": {},
   "outputs": [
    {
     "data": {
      "text/plain": [
       "(33103, 17)"
      ]
     },
     "execution_count": 19,
     "metadata": {},
     "output_type": "execute_result"
    }
   ],
   "source": [
    "df_church.shape"
   ]
  },
  {
   "cell_type": "code",
   "execution_count": 13,
   "id": "b71511f5",
   "metadata": {},
   "outputs": [
    {
     "data": {
      "text/plain": [
       "Index(['X', 'Y', 'FID', 'globalid', 'uniq_id', 'timestamp', 'editor',\n",
       "       'scdy_edtor', 'wardname', 'wardcode', 'lganame', 'lgacode', 'statename',\n",
       "       'statecode', 'name', 'poi_type', 'source'],\n",
       "      dtype='object')"
      ]
     },
     "execution_count": 13,
     "metadata": {},
     "output_type": "execute_result"
    }
   ],
   "source": [
    "df_mosque.columns"
   ]
  },
  {
   "cell_type": "code",
   "execution_count": 17,
   "id": "c7d5aa7b",
   "metadata": {},
   "outputs": [
    {
     "data": {
      "text/plain": [
       "Index(['X', 'Y', 'FID', 'globalid', 'uniq_id', 'timestamp', 'editor',\n",
       "       'scdy_edtor', 'wardname', 'wardcode', 'lganame', 'lgacode', 'statename',\n",
       "       'statecode', 'source', 'poi_type', 'name'],\n",
       "      dtype='object')"
      ]
     },
     "execution_count": 17,
     "metadata": {},
     "output_type": "execute_result"
    }
   ],
   "source": [
    "df_church.columns"
   ]
  },
  {
   "cell_type": "code",
   "execution_count": 7,
   "id": "ec272bbc",
   "metadata": {},
   "outputs": [
    {
     "data": {
      "text/plain": [
       "True"
      ]
     },
     "execution_count": 7,
     "metadata": {},
     "output_type": "execute_result"
    }
   ],
   "source": [
    "len(df_mosque.columns) == len(df_church.columns)"
   ]
  },
  {
   "cell_type": "code",
   "execution_count": 14,
   "id": "a590407a",
   "metadata": {},
   "outputs": [],
   "source": [
    "frames = [df_mosque, df_church]\n",
    "relig_df = pd.concat(frames)"
   ]
  },
  {
   "cell_type": "code",
   "execution_count": 16,
   "id": "8da874b3",
   "metadata": {},
   "outputs": [
    {
     "data": {
      "text/plain": [
       "(55482, 17)"
      ]
     },
     "execution_count": 16,
     "metadata": {},
     "output_type": "execute_result"
    }
   ],
   "source": [
    "relig_df.shape"
   ]
  },
  {
   "cell_type": "code",
   "execution_count": 23,
   "id": "a6fa210d",
   "metadata": {},
   "outputs": [
    {
     "data": {
      "text/plain": [
       "array(['Zamfara', 'Kebbi', 'Ogun', 'Adamawa', 'Benue', 'Jigawa', 'Borno',\n",
       "       'Yobe', 'Gombe', 'Niger', 'Bauchi', 'Oyo', 'Ondo', 'Rivers',\n",
       "       'Kano', 'Akwa Ibom', 'Fct', 'Nasarawa', 'Taraba', 'Edo', 'Kogi',\n",
       "       'Plateau', 'Delta', 'Kwara', 'Abia', 'Ekiti', 'Anambra', 'Sokoto',\n",
       "       'Katsina', 'Kaduna', 'Bayelsa', 'Lagos', 'Cross River', 'Imo',\n",
       "       'Ebonyi', 'Enugu'], dtype=object)"
      ]
     },
     "execution_count": 23,
     "metadata": {},
     "output_type": "execute_result"
    }
   ],
   "source": [
    "relig_df.statename.unique()"
   ]
  },
  {
   "cell_type": "code",
   "execution_count": 26,
   "id": "3d8913f2",
   "metadata": {},
   "outputs": [
    {
     "data": {
      "text/plain": [
       "12419    Kaduna\n",
       "12549    Kaduna\n",
       "12560    Kaduna\n",
       "12653    Kaduna\n",
       "12681    Kaduna\n",
       "          ...  \n",
       "30691    Kaduna\n",
       "30692    Kaduna\n",
       "30733    Kaduna\n",
       "30749    Kaduna\n",
       "30750    Kaduna\n",
       "Name: statename, Length: 2360, dtype: object"
      ]
     },
     "execution_count": 26,
     "metadata": {},
     "output_type": "execute_result"
    }
   ],
   "source": [
    "# filter the state column to kaduna\n",
    "df_kaduna = relig_df[(relig_df.statename == 'Kaduna')]\n",
    "df_kaduna.statename"
   ]
  },
  {
   "cell_type": "markdown",
   "id": "3b83cdca",
   "metadata": {},
   "source": [
    "### Data Visualization\n",
    "\n",
    "In this section, I will perform a data visualization of the religion centers using the Folium library"
   ]
  },
  {
   "cell_type": "code",
   "execution_count": null,
   "id": "892be1a7",
   "metadata": {},
   "outputs": [],
   "source": [
    "# import libraries and set map boundaries\n",
    "\n",
    "import folium\n",
    "\n",
    "Map = folium.Map(location[])"
   ]
  }
 ],
 "metadata": {
  "kernelspec": {
   "display_name": "Python 3 (ipykernel)",
   "language": "python",
   "name": "python3"
  },
  "language_info": {
   "codemirror_mode": {
    "name": "ipython",
    "version": 3
   },
   "file_extension": ".py",
   "mimetype": "text/x-python",
   "name": "python",
   "nbconvert_exporter": "python",
   "pygments_lexer": "ipython3",
   "version": "3.9.0"
  }
 },
 "nbformat": 4,
 "nbformat_minor": 5
}

{
 "cells": [
  {
   "cell_type": "code",
   "execution_count": null,
   "id": "6183ca68",
   "metadata": {},
   "outputs": [],
   "source": [
    "# load libraries and datasets\n",
    "import pandas as pd\n",
    "\n",
    "df_mosque = pd.read_csv('Nigeria_Mosques.csv', header=0)\n"
   ]
  }
 ],
 "metadata": {
  "kernelspec": {
   "display_name": "Python 3 (ipykernel)",
   "language": "python",
   "name": "python3"
  },
  "language_info": {
   "codemirror_mode": {
    "name": "ipython",
    "version": 3
   },
   "file_extension": ".py",
   "mimetype": "text/x-python",
   "name": "python",
   "nbconvert_exporter": "python",
   "pygments_lexer": "ipython3",
   "version": "3.9.0"
  }
 },
 "nbformat": 4,
 "nbformat_minor": 5
}
